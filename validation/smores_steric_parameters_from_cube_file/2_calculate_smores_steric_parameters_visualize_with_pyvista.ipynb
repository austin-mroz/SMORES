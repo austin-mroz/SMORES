{
 "cells": [
  {
   "cell_type": "code",
   "execution_count": null,
   "metadata": {},
   "outputs": [],
   "source": [
    "#!python\n",
    "\n",
    "import argparse\n",
    "import pathlib\n",
    "\n",
    "import flour\n",
    "import numpy as np\n",
    "import numpy.typing as npt\n",
    "import pyvista as pv\n",
    "import scipy.ndimage"
   ]
  },
  {
   "cell_type": "code",
   "execution_count": null,
   "metadata": {},
   "outputs": [],
   "source": [
    "cube_data = flour.read_cube(pathlib.Path.cwd() / \"1_output\" / \"ESP.cube\")"
   ]
  },
  {
   "cell_type": "code",
   "execution_count": null,
   "metadata": {},
   "outputs": [],
   "source": []
  }
 ],
 "metadata": {
  "language_info": {
   "name": "python"
  },
  "orig_nbformat": 4
 },
 "nbformat": 4,
 "nbformat_minor": 2
}
